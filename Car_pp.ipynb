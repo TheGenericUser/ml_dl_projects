{
 "cells": [
  {
   "cell_type": "code",
   "execution_count": 1,
   "id": "9b7ee97a-971b-4be3-9cf2-251ccfedc5a4",
   "metadata": {},
   "outputs": [],
   "source": [
    "import numpy as np\n",
    "import pandas as pd\n",
    "import matplotlib.pyplot as plt\n",
    "from sklearn.linear_model import LinearRegression\n",
    "from sklearn.metrics import mean_squared_error, r2_score, mean_absolute_error, root_mean_squared_error"
   ]
  },
  {
   "cell_type": "code",
   "execution_count": 58,
   "id": "7cd95d0a-391e-4d37-8442-aabf0d0024d7",
   "metadata": {},
   "outputs": [],
   "source": [
    "df = pd.read_csv('quikr_car.csv')"
   ]
  },
  {
   "cell_type": "code",
   "execution_count": 4,
   "id": "54a483ed-58b0-4f28-9efb-686840d3bf10",
   "metadata": {},
   "outputs": [
    {
     "data": {
      "text/html": [
       "<div>\n",
       "<style scoped>\n",
       "    .dataframe tbody tr th:only-of-type {\n",
       "        vertical-align: middle;\n",
       "    }\n",
       "\n",
       "    .dataframe tbody tr th {\n",
       "        vertical-align: top;\n",
       "    }\n",
       "\n",
       "    .dataframe thead th {\n",
       "        text-align: right;\n",
       "    }\n",
       "</style>\n",
       "<table border=\"1\" class=\"dataframe\">\n",
       "  <thead>\n",
       "    <tr style=\"text-align: right;\">\n",
       "      <th></th>\n",
       "      <th>name</th>\n",
       "      <th>company</th>\n",
       "      <th>year</th>\n",
       "      <th>Price</th>\n",
       "      <th>kms_driven</th>\n",
       "      <th>fuel_type</th>\n",
       "    </tr>\n",
       "  </thead>\n",
       "  <tbody>\n",
       "    <tr>\n",
       "      <th>count</th>\n",
       "      <td>892</td>\n",
       "      <td>892</td>\n",
       "      <td>892</td>\n",
       "      <td>892</td>\n",
       "      <td>840</td>\n",
       "      <td>837</td>\n",
       "    </tr>\n",
       "    <tr>\n",
       "      <th>unique</th>\n",
       "      <td>525</td>\n",
       "      <td>48</td>\n",
       "      <td>61</td>\n",
       "      <td>274</td>\n",
       "      <td>258</td>\n",
       "      <td>3</td>\n",
       "    </tr>\n",
       "    <tr>\n",
       "      <th>top</th>\n",
       "      <td>Honda City</td>\n",
       "      <td>Maruti</td>\n",
       "      <td>2015</td>\n",
       "      <td>Ask For Price</td>\n",
       "      <td>45,000 kms</td>\n",
       "      <td>Petrol</td>\n",
       "    </tr>\n",
       "    <tr>\n",
       "      <th>freq</th>\n",
       "      <td>13</td>\n",
       "      <td>235</td>\n",
       "      <td>117</td>\n",
       "      <td>35</td>\n",
       "      <td>30</td>\n",
       "      <td>440</td>\n",
       "    </tr>\n",
       "  </tbody>\n",
       "</table>\n",
       "</div>"
      ],
      "text/plain": [
       "              name company  year          Price  kms_driven fuel_type\n",
       "count          892     892   892            892         840       837\n",
       "unique         525      48    61            274         258         3\n",
       "top     Honda City  Maruti  2015  Ask For Price  45,000 kms    Petrol\n",
       "freq            13     235   117             35          30       440"
      ]
     },
     "execution_count": 4,
     "metadata": {},
     "output_type": "execute_result"
    }
   ],
   "source": [
    "df.describe()"
   ]
  },
  {
   "cell_type": "code",
   "execution_count": 5,
   "id": "45954ad0-2be9-4922-afee-5d5542b5ab92",
   "metadata": {},
   "outputs": [
    {
     "name": "stdout",
     "output_type": "stream",
     "text": [
      "<class 'pandas.core.frame.DataFrame'>\n",
      "RangeIndex: 892 entries, 0 to 891\n",
      "Data columns (total 6 columns):\n",
      " #   Column      Non-Null Count  Dtype \n",
      "---  ------      --------------  ----- \n",
      " 0   name        892 non-null    object\n",
      " 1   company     892 non-null    object\n",
      " 2   year        892 non-null    object\n",
      " 3   Price       892 non-null    object\n",
      " 4   kms_driven  840 non-null    object\n",
      " 5   fuel_type   837 non-null    object\n",
      "dtypes: object(6)\n",
      "memory usage: 41.9+ KB\n"
     ]
    }
   ],
   "source": [
    "df.info()"
   ]
  },
  {
   "cell_type": "code",
   "execution_count": 6,
   "id": "c818c504-17e9-494d-9d9a-1099f82e83ac",
   "metadata": {},
   "outputs": [
    {
     "data": {
      "text/html": [
       "<div>\n",
       "<style scoped>\n",
       "    .dataframe tbody tr th:only-of-type {\n",
       "        vertical-align: middle;\n",
       "    }\n",
       "\n",
       "    .dataframe tbody tr th {\n",
       "        vertical-align: top;\n",
       "    }\n",
       "\n",
       "    .dataframe thead th {\n",
       "        text-align: right;\n",
       "    }\n",
       "</style>\n",
       "<table border=\"1\" class=\"dataframe\">\n",
       "  <thead>\n",
       "    <tr style=\"text-align: right;\">\n",
       "      <th></th>\n",
       "      <th>name</th>\n",
       "      <th>company</th>\n",
       "      <th>year</th>\n",
       "      <th>Price</th>\n",
       "      <th>kms_driven</th>\n",
       "      <th>fuel_type</th>\n",
       "    </tr>\n",
       "  </thead>\n",
       "  <tbody>\n",
       "    <tr>\n",
       "      <th>228</th>\n",
       "      <td>Mahindra Thar CRDe 4x4 AC</td>\n",
       "      <td>Mahindra</td>\n",
       "      <td>2016</td>\n",
       "      <td>7,30,000</td>\n",
       "      <td>29,000 kms</td>\n",
       "      <td>Diesel</td>\n",
       "    </tr>\n",
       "    <tr>\n",
       "      <th>235</th>\n",
       "      <td>Mercedes Benz B Class B180 Sports</td>\n",
       "      <td>Mercedes</td>\n",
       "      <td>2014</td>\n",
       "      <td>14,00,000</td>\n",
       "      <td>31,000 kms</td>\n",
       "      <td>Petrol</td>\n",
       "    </tr>\n",
       "    <tr>\n",
       "      <th>637</th>\n",
       "      <td>Nissan Sunny XL</td>\n",
       "      <td>Nissan</td>\n",
       "      <td>2011</td>\n",
       "      <td>2,30,000</td>\n",
       "      <td>52,000 kms</td>\n",
       "      <td>Petrol</td>\n",
       "    </tr>\n",
       "    <tr>\n",
       "      <th>716</th>\n",
       "      <td>Maruti Suzuki Zen LXi BS III</td>\n",
       "      <td>Maruti</td>\n",
       "      <td>2004</td>\n",
       "      <td>68,000</td>\n",
       "      <td>56,000 kms</td>\n",
       "      <td>Petrol</td>\n",
       "    </tr>\n",
       "    <tr>\n",
       "      <th>156</th>\n",
       "      <td>Maruti Suzuki Alto 800 Lxi</td>\n",
       "      <td>Maruti</td>\n",
       "      <td>2018</td>\n",
       "      <td>3,10,000</td>\n",
       "      <td>3,000 kms</td>\n",
       "      <td>Petrol</td>\n",
       "    </tr>\n",
       "  </tbody>\n",
       "</table>\n",
       "</div>"
      ],
      "text/plain": [
       "                                  name   company  year      Price  kms_driven  \\\n",
       "228          Mahindra Thar CRDe 4x4 AC  Mahindra  2016   7,30,000  29,000 kms   \n",
       "235  Mercedes Benz B Class B180 Sports  Mercedes  2014  14,00,000  31,000 kms   \n",
       "637                    Nissan Sunny XL    Nissan  2011   2,30,000  52,000 kms   \n",
       "716       Maruti Suzuki Zen LXi BS III    Maruti  2004     68,000  56,000 kms   \n",
       "156         Maruti Suzuki Alto 800 Lxi    Maruti  2018   3,10,000   3,000 kms   \n",
       "\n",
       "    fuel_type  \n",
       "228    Diesel  \n",
       "235    Petrol  \n",
       "637    Petrol  \n",
       "716    Petrol  \n",
       "156    Petrol  "
      ]
     },
     "execution_count": 6,
     "metadata": {},
     "output_type": "execute_result"
    }
   ],
   "source": [
    "df.sample(5)"
   ]
  },
  {
   "cell_type": "code",
   "execution_count": 17,
   "id": "50adf39b-dc53-4a39-bc8a-7f3bf70c08ce",
   "metadata": {},
   "outputs": [
    {
     "data": {
      "text/plain": [
       "company\n",
       "maruti        237\n",
       "hyundai       145\n",
       "mahindra      100\n",
       "tata           79\n",
       "honda          61\n",
       "toyota         39\n",
       "chevrolet      35\n",
       "renault        34\n",
       "ford           31\n",
       "volkswagen     20\n",
       "skoda          13\n",
       "audi           11\n",
       "mini            8\n",
       "bmw             8\n",
       "datsun          8\n",
       "commercial      6\n",
       "mitsubishi      6\n",
       "mercedes        6\n",
       "nissan          6\n",
       "force           4\n",
       "fiat            4\n",
       "i               4\n",
       "hindustan       3\n",
       "used            2\n",
       "urgent          2\n",
       "jaguar          2\n",
       "sale            2\n",
       "swift           1\n",
       "urjent          1\n",
       "selling         1\n",
       "jeep            1\n",
       "yamaha          1\n",
       "very            1\n",
       "volvo           1\n",
       "2012            1\n",
       "well            1\n",
       "all             1\n",
       "7               1\n",
       "9               1\n",
       "scratch         1\n",
       "land            1\n",
       "sell            1\n",
       "any             1\n",
       "Name: count, dtype: int64"
      ]
     },
     "execution_count": 17,
     "metadata": {},
     "output_type": "execute_result"
    }
   ],
   "source": [
    "df['company'].value_counts()"
   ]
  },
  {
   "cell_type": "code",
   "execution_count": 34,
   "id": "a5479e04-d2e0-4723-8fd7-5c8db9616dbc",
   "metadata": {},
   "outputs": [],
   "source": [
    "df['company'] = df['company'].str.lower()"
   ]
  },
  {
   "cell_type": "code",
   "execution_count": 35,
   "id": "e0c7698f-cc47-4076-8335-33ab399afa18",
   "metadata": {},
   "outputs": [
    {
     "data": {
      "text/plain": [
       "845    any\n",
       "Name: company, dtype: object"
      ]
     },
     "execution_count": 35,
     "metadata": {},
     "output_type": "execute_result"
    }
   ],
   "source": [
    "df['company'][df['company'].values == 'any']"
   ]
  },
  {
   "cell_type": "code",
   "execution_count": 59,
   "id": "0ed0bce5-bdda-4120-8542-381f198fe920",
   "metadata": {},
   "outputs": [],
   "source": [
    "df = df[~df['company'].isin(['any', 'sell', 'land','scratch', '9', '7', 'all', 'well', '2012', 'very', 'jeep', 'selling', 'urjent', 'used',])]"
   ]
  },
  {
   "cell_type": "code",
   "execution_count": 37,
   "id": "571cb432-4e50-434a-aefb-34e9f8f4c450",
   "metadata": {},
   "outputs": [
    {
     "data": {
      "text/html": [
       "<div>\n",
       "<style scoped>\n",
       "    .dataframe tbody tr th:only-of-type {\n",
       "        vertical-align: middle;\n",
       "    }\n",
       "\n",
       "    .dataframe tbody tr th {\n",
       "        vertical-align: top;\n",
       "    }\n",
       "\n",
       "    .dataframe thead th {\n",
       "        text-align: right;\n",
       "    }\n",
       "</style>\n",
       "<table border=\"1\" class=\"dataframe\">\n",
       "  <thead>\n",
       "    <tr style=\"text-align: right;\">\n",
       "      <th></th>\n",
       "      <th>name</th>\n",
       "      <th>company</th>\n",
       "      <th>year</th>\n",
       "      <th>Price</th>\n",
       "      <th>kms_driven</th>\n",
       "      <th>fuel_type</th>\n",
       "    </tr>\n",
       "  </thead>\n",
       "  <tbody>\n",
       "    <tr>\n",
       "      <th>328</th>\n",
       "      <td>Honda Amaze</td>\n",
       "      <td>honda</td>\n",
       "      <td>2014</td>\n",
       "      <td>2,74,999</td>\n",
       "      <td>35,000 kms</td>\n",
       "      <td>Petrol</td>\n",
       "    </tr>\n",
       "    <tr>\n",
       "      <th>597</th>\n",
       "      <td>Maruti Suzuki Alto K10 LXi CNG</td>\n",
       "      <td>maruti</td>\n",
       "      <td>2009</td>\n",
       "      <td>90,000</td>\n",
       "      <td>62,000 kms</td>\n",
       "      <td>Petrol</td>\n",
       "    </tr>\n",
       "    <tr>\n",
       "      <th>77</th>\n",
       "      <td>Honda Amaze</td>\n",
       "      <td>honda</td>\n",
       "      <td>2015</td>\n",
       "      <td>3,44,999</td>\n",
       "      <td>22,000 kms</td>\n",
       "      <td>Petrol</td>\n",
       "    </tr>\n",
       "    <tr>\n",
       "      <th>3</th>\n",
       "      <td>Hyundai Grand i10 Magna 1.2 Kappa VTVT</td>\n",
       "      <td>hyundai</td>\n",
       "      <td>2014</td>\n",
       "      <td>3,25,000</td>\n",
       "      <td>28,000 kms</td>\n",
       "      <td>Petrol</td>\n",
       "    </tr>\n",
       "    <tr>\n",
       "      <th>75</th>\n",
       "      <td>Skoda Fabia 1.2L Diesel Ambiente</td>\n",
       "      <td>skoda</td>\n",
       "      <td>2011</td>\n",
       "      <td>1,59,500</td>\n",
       "      <td>38,200 kms</td>\n",
       "      <td>Diesel</td>\n",
       "    </tr>\n",
       "    <tr>\n",
       "      <th>...</th>\n",
       "      <td>...</td>\n",
       "      <td>...</td>\n",
       "      <td>...</td>\n",
       "      <td>...</td>\n",
       "      <td>...</td>\n",
       "      <td>...</td>\n",
       "    </tr>\n",
       "    <tr>\n",
       "      <th>790</th>\n",
       "      <td>Tata Indigo eCS</td>\n",
       "      <td>tata</td>\n",
       "      <td>2016</td>\n",
       "      <td>1,30,000</td>\n",
       "      <td>1,50,000 kms</td>\n",
       "      <td>Diesel</td>\n",
       "    </tr>\n",
       "    <tr>\n",
       "      <th>725</th>\n",
       "      <td>i want sale my car.no emi....uber atta</td>\n",
       "      <td>i</td>\n",
       "      <td>d...</td>\n",
       "      <td>3,20,000</td>\n",
       "      <td>NaN</td>\n",
       "      <td>NaN</td>\n",
       "    </tr>\n",
       "    <tr>\n",
       "      <th>198</th>\n",
       "      <td>Toyota Innova 2.5 G BS III 8 STR</td>\n",
       "      <td>toyota</td>\n",
       "      <td>2006</td>\n",
       "      <td>3,65,000</td>\n",
       "      <td>73,000 kms</td>\n",
       "      <td>Diesel</td>\n",
       "    </tr>\n",
       "    <tr>\n",
       "      <th>358</th>\n",
       "      <td>Hyundai i10 Sportz</td>\n",
       "      <td>hyundai</td>\n",
       "      <td>2012</td>\n",
       "      <td>2,30,000</td>\n",
       "      <td>34,000 kms</td>\n",
       "      <td>Petrol</td>\n",
       "    </tr>\n",
       "    <tr>\n",
       "      <th>864</th>\n",
       "      <td>Tata Indica eV2 LS</td>\n",
       "      <td>tata</td>\n",
       "      <td>2016</td>\n",
       "      <td>50,500</td>\n",
       "      <td>91,200 kms</td>\n",
       "      <td>Diesel</td>\n",
       "    </tr>\n",
       "  </tbody>\n",
       "</table>\n",
       "<p>100 rows × 6 columns</p>\n",
       "</div>"
      ],
      "text/plain": [
       "                                       name  company  year     Price  \\\n",
       "328                             Honda Amaze    honda  2014  2,74,999   \n",
       "597          Maruti Suzuki Alto K10 LXi CNG   maruti  2009    90,000   \n",
       "77                              Honda Amaze    honda  2015  3,44,999   \n",
       "3    Hyundai Grand i10 Magna 1.2 Kappa VTVT  hyundai  2014  3,25,000   \n",
       "75         Skoda Fabia 1.2L Diesel Ambiente    skoda  2011  1,59,500   \n",
       "..                                      ...      ...   ...       ...   \n",
       "790                         Tata Indigo eCS     tata  2016  1,30,000   \n",
       "725  i want sale my car.no emi....uber atta        i  d...  3,20,000   \n",
       "198        Toyota Innova 2.5 G BS III 8 STR   toyota  2006  3,65,000   \n",
       "358                      Hyundai i10 Sportz  hyundai  2012  2,30,000   \n",
       "864                      Tata Indica eV2 LS     tata  2016    50,500   \n",
       "\n",
       "       kms_driven fuel_type  \n",
       "328    35,000 kms    Petrol  \n",
       "597    62,000 kms    Petrol  \n",
       "77     22,000 kms    Petrol  \n",
       "3      28,000 kms    Petrol  \n",
       "75     38,200 kms    Diesel  \n",
       "..            ...       ...  \n",
       "790  1,50,000 kms    Diesel  \n",
       "725           NaN       NaN  \n",
       "198    73,000 kms    Diesel  \n",
       "358    34,000 kms    Petrol  \n",
       "864    91,200 kms    Diesel  \n",
       "\n",
       "[100 rows x 6 columns]"
      ]
     },
     "execution_count": 37,
     "metadata": {},
     "output_type": "execute_result"
    }
   ],
   "source": [
    "df.sample(100)"
   ]
  },
  {
   "cell_type": "code",
   "execution_count": 49,
   "id": "d61db519-b91e-4e80-9551-7cf449073ad2",
   "metadata": {},
   "outputs": [
    {
     "data": {
      "text/plain": [
       "year\n",
       "2015    117\n",
       "2014     94\n",
       "2013     94\n",
       "2016     76\n",
       "2012     75\n",
       "       ... \n",
       "ture      1\n",
       "emi       1\n",
       "able      1\n",
       "no.       1\n",
       "zest      1\n",
       "Name: count, Length: 61, dtype: int64"
      ]
     },
     "execution_count": 49,
     "metadata": {},
     "output_type": "execute_result"
    }
   ],
   "source": [
    "df['year'].value_counts()"
   ]
  },
  {
   "cell_type": "code",
   "execution_count": 50,
   "id": "73fbd567-cbea-4ee7-9de4-cc5996edbdee",
   "metadata": {},
   "outputs": [
    {
     "data": {
      "text/plain": [
       "array(['2007', '2006', '2018', '2014', '2015', '2012', '2013', '2016',\n",
       "       '2010', '2017', '2008', '2011', '2019', '2009', '2005', '2000',\n",
       "       '...', '150k', 'TOUR', '2003', 'r 15', '2004', 'Zest', '/-Rs',\n",
       "       'sale', '1995', 'ara)', '2002', 'SELL', '2001', 'tion', 'odel',\n",
       "       '2 bs', 'arry', 'Eon', 'o...', 'ture', 'emi', 'car', 'able', 'no.',\n",
       "       'd...', 'SALE', 'digo', 'sell', 'd Ex', 'n...', 'e...', 'D...',\n",
       "       ', Ac', 'go .', 'k...', 'o c4', 'zire', 'cent', 'Sumo', 'cab',\n",
       "       't xe', 'EV2', 'r...', 'zest'], dtype=object)"
      ]
     },
     "execution_count": 50,
     "metadata": {},
     "output_type": "execute_result"
    }
   ],
   "source": [
    "df['year'].unique()"
   ]
  },
  {
   "cell_type": "code",
   "execution_count": 60,
   "id": "f144a0d9-07da-43f9-9bd9-fd9291aef417",
   "metadata": {},
   "outputs": [
    {
     "data": {
      "text/plain": [
       "name           0\n",
       "company        0\n",
       "year           0\n",
       "Price          0\n",
       "kms_driven    44\n",
       "fuel_type     47\n",
       "dtype: int64"
      ]
     },
     "execution_count": 60,
     "metadata": {},
     "output_type": "execute_result"
    }
   ],
   "source": [
    "df.isna().sum()"
   ]
  },
  {
   "cell_type": "code",
   "execution_count": 61,
   "id": "bbf80e90-9e27-4caf-bf1e-627f0695ef7f",
   "metadata": {},
   "outputs": [],
   "source": [
    "df = df[df['year'].str.isnumeric()]"
   ]
  },
  {
   "cell_type": "code",
   "execution_count": 62,
   "id": "4a08f1ed-462f-485b-8e5c-8a53e6d9e5ae",
   "metadata": {},
   "outputs": [
    {
     "data": {
      "text/plain": [
       "(842,)"
      ]
     },
     "execution_count": 62,
     "metadata": {},
     "output_type": "execute_result"
    }
   ],
   "source": [
    "df['year'].shape"
   ]
  },
  {
   "cell_type": "code",
   "execution_count": 63,
   "id": "d4cee81e-9256-4ab5-bf1b-ce017aea209e",
   "metadata": {},
   "outputs": [
    {
     "data": {
      "text/plain": [
       "0"
      ]
     },
     "execution_count": 63,
     "metadata": {},
     "output_type": "execute_result"
    }
   ],
   "source": [
    "df['year'].isna().sum()"
   ]
  },
  {
   "cell_type": "code",
   "execution_count": 80,
   "id": "7bd9e6e1-6078-49bc-8d07-5267bc079249",
   "metadata": {},
   "outputs": [],
   "source": [
    "df['price'].replace('Ask For Price', np.nan, inplace=True)"
   ]
  },
  {
   "cell_type": "code",
   "execution_count": 69,
   "id": "43cad8be-b438-4245-87aa-e0fdb590aefb",
   "metadata": {},
   "outputs": [],
   "source": [
    "df.rename(columns={'Price':'price'}, inplace = True)"
   ]
  },
  {
   "cell_type": "code",
   "execution_count": 73,
   "id": "152a836a-b8d4-4154-a0be-fa7c95f61707",
   "metadata": {},
   "outputs": [
    {
     "data": {
      "text/plain": [
       "array([], dtype=object)"
      ]
     },
     "execution_count": 73,
     "metadata": {},
     "output_type": "execute_result"
    }
   ],
   "source": [
    "df['price'][df['price'].str.isnumeric()].unique()"
   ]
  },
  {
   "cell_type": "code",
   "execution_count": 90,
   "id": "90bf08a4-9a3f-4543-b150-137245cd9425",
   "metadata": {},
   "outputs": [],
   "source": [
    "df['price'] = df['price'].str.replace(',','').astype(float)"
   ]
  },
  {
   "cell_type": "code",
   "execution_count": 93,
   "id": "ec66c3de-0743-4f41-9e15-4f597a1d2c77",
   "metadata": {},
   "outputs": [],
   "source": [
    "df['price']=df['price'].fillna(float(df['price'].mean()))"
   ]
  },
  {
   "cell_type": "code",
   "execution_count": 100,
   "id": "c17fd589-1d88-40f9-a030-450fe3f3d0d4",
   "metadata": {},
   "outputs": [],
   "source": [
    "df['price'] = df['price'].astype(np.uint32)"
   ]
  },
  {
   "cell_type": "code",
   "execution_count": 111,
   "id": "3166f8b4-b9a9-41a8-81ab-e6be92d9f089",
   "metadata": {},
   "outputs": [
    {
     "data": {
      "text/plain": [
       "kms_driven\n",
       "45,000 kms      30\n",
       "35,000 kms      30\n",
       "55,000 kms      25\n",
       "50,000 kms      23\n",
       "20,000 kms      22\n",
       "                ..\n",
       "1,03,553 kms     1\n",
       "29,685 kms       1\n",
       "30,874 kms       1\n",
       "49,800 kms       1\n",
       "1,66,000 kms     1\n",
       "Name: count, Length: 258, dtype: int64"
      ]
     },
     "execution_count": 111,
     "metadata": {},
     "output_type": "execute_result"
    }
   ],
   "source": [
    "df['kms_driven'].value_counts()"
   ]
  },
  {
   "cell_type": "code",
   "execution_count": 117,
   "id": "c0c68850-8e5c-466f-8907-045eb3e5615e",
   "metadata": {},
   "outputs": [],
   "source": [
    "df['kms_driven'] = df['kms_driven'].str.split(' ').str.get(0)"
   ]
  },
  {
   "cell_type": "code",
   "execution_count": 132,
   "id": "4a902184-cff4-40aa-96ce-06f38bec3b20",
   "metadata": {},
   "outputs": [],
   "source": [
    "df['kms_driven'].replace('Petrol', np.nan, inplace=True)"
   ]
  },
  {
   "cell_type": "code",
   "execution_count": 123,
   "id": "add77dd6-44e4-4bab-9722-855c1b1583b2",
   "metadata": {},
   "outputs": [],
   "source": [
    "df['kms_driven'] = df['kms_driven'].str.replace(',','')"
   ]
  },
  {
   "cell_type": "code",
   "execution_count": 136,
   "id": "5f16ddbb-6b97-4c97-9ba3-3cf23c4d46fc",
   "metadata": {},
   "outputs": [],
   "source": [
    "df['kms_driven'] = df['kms_driven'].fillna(df['kms_driven'].astype(float).mean())"
   ]
  },
  {
   "cell_type": "code",
   "execution_count": 159,
   "id": "453361c1-7435-4619-bb9c-36005a98a3e3",
   "metadata": {},
   "outputs": [],
   "source": [
    "df['kms_driven'] = df['kms_driven'].astype(np.uint32)"
   ]
  },
  {
   "cell_type": "code",
   "execution_count": 162,
   "id": "d15d169e-07d7-46ce-93ec-c5846de3356f",
   "metadata": {},
   "outputs": [
    {
     "data": {
      "text/plain": [
       "fuel_type\n",
       "Petrol    440\n",
       "Diesel    395\n",
       "LPG         2\n",
       "Name: count, dtype: int64"
      ]
     },
     "execution_count": 162,
     "metadata": {},
     "output_type": "execute_result"
    }
   ],
   "source": [
    "df['fuel_type'].value_counts()"
   ]
  },
  {
   "cell_type": "code",
   "execution_count": 185,
   "id": "3c1afd5e-532e-457e-8ded-37e3ac1c5462",
   "metadata": {},
   "outputs": [
    {
     "data": {
      "text/html": [
       "<div>\n",
       "<style scoped>\n",
       "    .dataframe tbody tr th:only-of-type {\n",
       "        vertical-align: middle;\n",
       "    }\n",
       "\n",
       "    .dataframe tbody tr th {\n",
       "        vertical-align: top;\n",
       "    }\n",
       "\n",
       "    .dataframe thead th {\n",
       "        text-align: right;\n",
       "    }\n",
       "</style>\n",
       "<table border=\"1\" class=\"dataframe\">\n",
       "  <thead>\n",
       "    <tr style=\"text-align: right;\">\n",
       "      <th></th>\n",
       "      <th>index</th>\n",
       "      <th>fuel_type</th>\n",
       "    </tr>\n",
       "  </thead>\n",
       "  <tbody>\n",
       "    <tr>\n",
       "      <th>0</th>\n",
       "      <td>85</td>\n",
       "      <td>NaN</td>\n",
       "    </tr>\n",
       "    <tr>\n",
       "      <th>1</th>\n",
       "      <td>132</td>\n",
       "      <td>NaN</td>\n",
       "    </tr>\n",
       "    <tr>\n",
       "      <th>2</th>\n",
       "      <td>890</td>\n",
       "      <td>NaN</td>\n",
       "    </tr>\n",
       "    <tr>\n",
       "      <th>3</th>\n",
       "      <td>891</td>\n",
       "      <td>NaN</td>\n",
       "    </tr>\n",
       "  </tbody>\n",
       "</table>\n",
       "</div>"
      ],
      "text/plain": [
       "   index fuel_type\n",
       "0     85       NaN\n",
       "1    132       NaN\n",
       "2    890       NaN\n",
       "3    891       NaN"
      ]
     },
     "execution_count": 185,
     "metadata": {},
     "output_type": "execute_result"
    }
   ],
   "source": [
    "df['fuel_type'][df['fuel_type'].isna()]"
   ]
  },
  {
   "cell_type": "code",
   "execution_count": 187,
   "id": "fba5c718-576b-44e8-8183-4e280a7d5433",
   "metadata": {},
   "outputs": [],
   "source": [
    "df.dropna(inplace=True)"
   ]
  },
  {
   "cell_type": "code",
   "execution_count": 189,
   "id": "e23a4344-7d9b-4d2d-adc6-f3922a9e2101",
   "metadata": {},
   "outputs": [],
   "source": [
    "df.reset_index(drop=True, inplace=True)"
   ]
  },
  {
   "cell_type": "code",
   "execution_count": 195,
   "id": "4541176d-04c5-454c-9141-13892c254fe8",
   "metadata": {},
   "outputs": [],
   "source": [
    "df['fuel_type'] = df['fuel_type'].str.lower()"
   ]
  },
  {
   "cell_type": "code",
   "execution_count": 198,
   "id": "2c181d16-c5cc-4182-b9da-e5d2918d768b",
   "metadata": {},
   "outputs": [],
   "source": [
    "df.drop(columns = 'fuel_tyoe', inplace=True)"
   ]
  },
  {
   "cell_type": "code",
   "execution_count": 199,
   "id": "7376e850-66ef-4703-be25-9be12cc6d61b",
   "metadata": {},
   "outputs": [
    {
     "data": {
      "text/html": [
       "<div>\n",
       "<style scoped>\n",
       "    .dataframe tbody tr th:only-of-type {\n",
       "        vertical-align: middle;\n",
       "    }\n",
       "\n",
       "    .dataframe tbody tr th {\n",
       "        vertical-align: top;\n",
       "    }\n",
       "\n",
       "    .dataframe thead th {\n",
       "        text-align: right;\n",
       "    }\n",
       "</style>\n",
       "<table border=\"1\" class=\"dataframe\">\n",
       "  <thead>\n",
       "    <tr style=\"text-align: right;\">\n",
       "      <th></th>\n",
       "      <th>name</th>\n",
       "      <th>company</th>\n",
       "      <th>year</th>\n",
       "      <th>price</th>\n",
       "      <th>kms_driven</th>\n",
       "      <th>fuel_type</th>\n",
       "    </tr>\n",
       "  </thead>\n",
       "  <tbody>\n",
       "    <tr>\n",
       "      <th>0</th>\n",
       "      <td>hyundai santro xing xo erlx euro iii</td>\n",
       "      <td>Hyundai</td>\n",
       "      <td>2007</td>\n",
       "      <td>80000</td>\n",
       "      <td>45000</td>\n",
       "      <td>petrol</td>\n",
       "    </tr>\n",
       "    <tr>\n",
       "      <th>1</th>\n",
       "      <td>mahindra jeep cl550 mdi</td>\n",
       "      <td>Mahindra</td>\n",
       "      <td>2006</td>\n",
       "      <td>425000</td>\n",
       "      <td>40</td>\n",
       "      <td>diesel</td>\n",
       "    </tr>\n",
       "    <tr>\n",
       "      <th>2</th>\n",
       "      <td>maruti suzuki alto 800 vxi</td>\n",
       "      <td>Maruti</td>\n",
       "      <td>2018</td>\n",
       "      <td>410960</td>\n",
       "      <td>22000</td>\n",
       "      <td>petrol</td>\n",
       "    </tr>\n",
       "    <tr>\n",
       "      <th>3</th>\n",
       "      <td>hyundai grand i10 magna 1.2 kappa vtvt</td>\n",
       "      <td>Hyundai</td>\n",
       "      <td>2014</td>\n",
       "      <td>325000</td>\n",
       "      <td>28000</td>\n",
       "      <td>petrol</td>\n",
       "    </tr>\n",
       "    <tr>\n",
       "      <th>4</th>\n",
       "      <td>ford ecosport titanium 1.5l tdci</td>\n",
       "      <td>Ford</td>\n",
       "      <td>2014</td>\n",
       "      <td>575000</td>\n",
       "      <td>36000</td>\n",
       "      <td>diesel</td>\n",
       "    </tr>\n",
       "    <tr>\n",
       "      <th>...</th>\n",
       "      <td>...</td>\n",
       "      <td>...</td>\n",
       "      <td>...</td>\n",
       "      <td>...</td>\n",
       "      <td>...</td>\n",
       "      <td>...</td>\n",
       "    </tr>\n",
       "    <tr>\n",
       "      <th>831</th>\n",
       "      <td>maruti suzuki ritz vxi abs</td>\n",
       "      <td>Maruti</td>\n",
       "      <td>2011</td>\n",
       "      <td>270000</td>\n",
       "      <td>50000</td>\n",
       "      <td>petrol</td>\n",
       "    </tr>\n",
       "    <tr>\n",
       "      <th>832</th>\n",
       "      <td>tata indica v2 dle bs iii</td>\n",
       "      <td>Tata</td>\n",
       "      <td>2009</td>\n",
       "      <td>110000</td>\n",
       "      <td>30000</td>\n",
       "      <td>diesel</td>\n",
       "    </tr>\n",
       "    <tr>\n",
       "      <th>833</th>\n",
       "      <td>toyota corolla altis</td>\n",
       "      <td>Toyota</td>\n",
       "      <td>2009</td>\n",
       "      <td>300000</td>\n",
       "      <td>132000</td>\n",
       "      <td>petrol</td>\n",
       "    </tr>\n",
       "    <tr>\n",
       "      <th>834</th>\n",
       "      <td>tata zest xm diesel</td>\n",
       "      <td>Tata</td>\n",
       "      <td>2018</td>\n",
       "      <td>260000</td>\n",
       "      <td>27000</td>\n",
       "      <td>diesel</td>\n",
       "    </tr>\n",
       "    <tr>\n",
       "      <th>835</th>\n",
       "      <td>mahindra quanto c8</td>\n",
       "      <td>Mahindra</td>\n",
       "      <td>2013</td>\n",
       "      <td>390000</td>\n",
       "      <td>40000</td>\n",
       "      <td>diesel</td>\n",
       "    </tr>\n",
       "  </tbody>\n",
       "</table>\n",
       "<p>836 rows × 6 columns</p>\n",
       "</div>"
      ],
      "text/plain": [
       "                                       name   company  year   price  \\\n",
       "0      hyundai santro xing xo erlx euro iii   Hyundai  2007   80000   \n",
       "1                   mahindra jeep cl550 mdi  Mahindra  2006  425000   \n",
       "2                maruti suzuki alto 800 vxi    Maruti  2018  410960   \n",
       "3    hyundai grand i10 magna 1.2 kappa vtvt   Hyundai  2014  325000   \n",
       "4          ford ecosport titanium 1.5l tdci      Ford  2014  575000   \n",
       "..                                      ...       ...   ...     ...   \n",
       "831              maruti suzuki ritz vxi abs    Maruti  2011  270000   \n",
       "832               tata indica v2 dle bs iii      Tata  2009  110000   \n",
       "833                    toyota corolla altis    Toyota  2009  300000   \n",
       "834                     tata zest xm diesel      Tata  2018  260000   \n",
       "835                      mahindra quanto c8  Mahindra  2013  390000   \n",
       "\n",
       "     kms_driven fuel_type  \n",
       "0         45000    petrol  \n",
       "1            40    diesel  \n",
       "2         22000    petrol  \n",
       "3         28000    petrol  \n",
       "4         36000    diesel  \n",
       "..          ...       ...  \n",
       "831       50000    petrol  \n",
       "832       30000    diesel  \n",
       "833      132000    petrol  \n",
       "834       27000    diesel  \n",
       "835       40000    diesel  \n",
       "\n",
       "[836 rows x 6 columns]"
      ]
     },
     "execution_count": 199,
     "metadata": {},
     "output_type": "execute_result"
    }
   ],
   "source": [
    "df"
   ]
  },
  {
   "cell_type": "code",
   "execution_count": 208,
   "id": "338c1afc-5825-4742-8b20-d7d101dfeb77",
   "metadata": {},
   "outputs": [],
   "source": [
    "df['name'] = df['name'].str.split(' ').str.slice(0,3).str.join(' ')"
   ]
  },
  {
   "cell_type": "code",
   "execution_count": 217,
   "id": "d6449d8c-f7a3-4ef6-b0a2-337e34fa7a41",
   "metadata": {},
   "outputs": [
    {
     "data": {
      "text/html": [
       "<div>\n",
       "<style scoped>\n",
       "    .dataframe tbody tr th:only-of-type {\n",
       "        vertical-align: middle;\n",
       "    }\n",
       "\n",
       "    .dataframe tbody tr th {\n",
       "        vertical-align: top;\n",
       "    }\n",
       "\n",
       "    .dataframe thead th {\n",
       "        text-align: right;\n",
       "    }\n",
       "</style>\n",
       "<table border=\"1\" class=\"dataframe\">\n",
       "  <thead>\n",
       "    <tr style=\"text-align: right;\">\n",
       "      <th></th>\n",
       "      <th>year</th>\n",
       "      <th>price</th>\n",
       "      <th>kms_driven</th>\n",
       "    </tr>\n",
       "  </thead>\n",
       "  <tbody>\n",
       "    <tr>\n",
       "      <th>count</th>\n",
       "      <td>835.000000</td>\n",
       "      <td>8.350000e+02</td>\n",
       "      <td>835.000000</td>\n",
       "    </tr>\n",
       "    <tr>\n",
       "      <th>mean</th>\n",
       "      <td>2012.512575</td>\n",
       "      <td>4.022356e+05</td>\n",
       "      <td>46054.899401</td>\n",
       "    </tr>\n",
       "    <tr>\n",
       "      <th>std</th>\n",
       "      <td>4.032633</td>\n",
       "      <td>3.769385e+05</td>\n",
       "      <td>34520.115890</td>\n",
       "    </tr>\n",
       "    <tr>\n",
       "      <th>min</th>\n",
       "      <td>1995.000000</td>\n",
       "      <td>3.000000e+04</td>\n",
       "      <td>0.000000</td>\n",
       "    </tr>\n",
       "    <tr>\n",
       "      <th>25%</th>\n",
       "      <td>2010.000000</td>\n",
       "      <td>1.765000e+05</td>\n",
       "      <td>25000.000000</td>\n",
       "    </tr>\n",
       "    <tr>\n",
       "      <th>50%</th>\n",
       "      <td>2013.000000</td>\n",
       "      <td>3.100000e+05</td>\n",
       "      <td>41000.000000</td>\n",
       "    </tr>\n",
       "    <tr>\n",
       "      <th>75%</th>\n",
       "      <td>2015.000000</td>\n",
       "      <td>4.899990e+05</td>\n",
       "      <td>56604.000000</td>\n",
       "    </tr>\n",
       "    <tr>\n",
       "      <th>max</th>\n",
       "      <td>2019.000000</td>\n",
       "      <td>3.100000e+06</td>\n",
       "      <td>400000.000000</td>\n",
       "    </tr>\n",
       "  </tbody>\n",
       "</table>\n",
       "</div>"
      ],
      "text/plain": [
       "              year         price     kms_driven\n",
       "count   835.000000  8.350000e+02     835.000000\n",
       "mean   2012.512575  4.022356e+05   46054.899401\n",
       "std       4.032633  3.769385e+05   34520.115890\n",
       "min    1995.000000  3.000000e+04       0.000000\n",
       "25%    2010.000000  1.765000e+05   25000.000000\n",
       "50%    2013.000000  3.100000e+05   41000.000000\n",
       "75%    2015.000000  4.899990e+05   56604.000000\n",
       "max    2019.000000  3.100000e+06  400000.000000"
      ]
     },
     "execution_count": 217,
     "metadata": {},
     "output_type": "execute_result"
    }
   ],
   "source": [
    "df.describe()"
   ]
  },
  {
   "cell_type": "code",
   "execution_count": 212,
   "id": "f6b6cd66-1d9a-4471-8c3a-f0cab63db8d2",
   "metadata": {},
   "outputs": [],
   "source": [
    "df['year'] = df['year'].astype(np.uint16)"
   ]
  },
  {
   "cell_type": "code",
   "execution_count": 216,
   "id": "dcfbabe4-dbcd-44ff-9c00-acd0fa39aa42",
   "metadata": {},
   "outputs": [],
   "source": [
    "df = df[df['price'] < 6e6]"
   ]
  },
  {
   "cell_type": "code",
   "execution_count": 218,
   "id": "29ba1e16-a592-4cc8-92d8-a30a48b5bdf4",
   "metadata": {},
   "outputs": [],
   "source": [
    "df.reset_index(inplace=True, drop=True)"
   ]
  },
  {
   "cell_type": "code",
   "execution_count": 219,
   "id": "c3d4180b-7f1b-4aaa-9314-ff764de901b9",
   "metadata": {},
   "outputs": [
    {
     "data": {
      "text/html": [
       "<div>\n",
       "<style scoped>\n",
       "    .dataframe tbody tr th:only-of-type {\n",
       "        vertical-align: middle;\n",
       "    }\n",
       "\n",
       "    .dataframe tbody tr th {\n",
       "        vertical-align: top;\n",
       "    }\n",
       "\n",
       "    .dataframe thead th {\n",
       "        text-align: right;\n",
       "    }\n",
       "</style>\n",
       "<table border=\"1\" class=\"dataframe\">\n",
       "  <thead>\n",
       "    <tr style=\"text-align: right;\">\n",
       "      <th></th>\n",
       "      <th>name</th>\n",
       "      <th>company</th>\n",
       "      <th>year</th>\n",
       "      <th>price</th>\n",
       "      <th>kms_driven</th>\n",
       "      <th>fuel_type</th>\n",
       "    </tr>\n",
       "  </thead>\n",
       "  <tbody>\n",
       "    <tr>\n",
       "      <th>0</th>\n",
       "      <td>hyundai santro xing</td>\n",
       "      <td>Hyundai</td>\n",
       "      <td>2007</td>\n",
       "      <td>80000</td>\n",
       "      <td>45000</td>\n",
       "      <td>petrol</td>\n",
       "    </tr>\n",
       "    <tr>\n",
       "      <th>1</th>\n",
       "      <td>mahindra jeep cl550</td>\n",
       "      <td>Mahindra</td>\n",
       "      <td>2006</td>\n",
       "      <td>425000</td>\n",
       "      <td>40</td>\n",
       "      <td>diesel</td>\n",
       "    </tr>\n",
       "    <tr>\n",
       "      <th>2</th>\n",
       "      <td>maruti suzuki alto</td>\n",
       "      <td>Maruti</td>\n",
       "      <td>2018</td>\n",
       "      <td>410960</td>\n",
       "      <td>22000</td>\n",
       "      <td>petrol</td>\n",
       "    </tr>\n",
       "    <tr>\n",
       "      <th>3</th>\n",
       "      <td>hyundai grand i10</td>\n",
       "      <td>Hyundai</td>\n",
       "      <td>2014</td>\n",
       "      <td>325000</td>\n",
       "      <td>28000</td>\n",
       "      <td>petrol</td>\n",
       "    </tr>\n",
       "    <tr>\n",
       "      <th>4</th>\n",
       "      <td>ford ecosport titanium</td>\n",
       "      <td>Ford</td>\n",
       "      <td>2014</td>\n",
       "      <td>575000</td>\n",
       "      <td>36000</td>\n",
       "      <td>diesel</td>\n",
       "    </tr>\n",
       "    <tr>\n",
       "      <th>...</th>\n",
       "      <td>...</td>\n",
       "      <td>...</td>\n",
       "      <td>...</td>\n",
       "      <td>...</td>\n",
       "      <td>...</td>\n",
       "      <td>...</td>\n",
       "    </tr>\n",
       "    <tr>\n",
       "      <th>830</th>\n",
       "      <td>maruti suzuki ritz</td>\n",
       "      <td>Maruti</td>\n",
       "      <td>2011</td>\n",
       "      <td>270000</td>\n",
       "      <td>50000</td>\n",
       "      <td>petrol</td>\n",
       "    </tr>\n",
       "    <tr>\n",
       "      <th>831</th>\n",
       "      <td>tata indica v2</td>\n",
       "      <td>Tata</td>\n",
       "      <td>2009</td>\n",
       "      <td>110000</td>\n",
       "      <td>30000</td>\n",
       "      <td>diesel</td>\n",
       "    </tr>\n",
       "    <tr>\n",
       "      <th>832</th>\n",
       "      <td>toyota corolla altis</td>\n",
       "      <td>Toyota</td>\n",
       "      <td>2009</td>\n",
       "      <td>300000</td>\n",
       "      <td>132000</td>\n",
       "      <td>petrol</td>\n",
       "    </tr>\n",
       "    <tr>\n",
       "      <th>833</th>\n",
       "      <td>tata zest xm</td>\n",
       "      <td>Tata</td>\n",
       "      <td>2018</td>\n",
       "      <td>260000</td>\n",
       "      <td>27000</td>\n",
       "      <td>diesel</td>\n",
       "    </tr>\n",
       "    <tr>\n",
       "      <th>834</th>\n",
       "      <td>mahindra quanto c8</td>\n",
       "      <td>Mahindra</td>\n",
       "      <td>2013</td>\n",
       "      <td>390000</td>\n",
       "      <td>40000</td>\n",
       "      <td>diesel</td>\n",
       "    </tr>\n",
       "  </tbody>\n",
       "</table>\n",
       "<p>835 rows × 6 columns</p>\n",
       "</div>"
      ],
      "text/plain": [
       "                       name   company  year   price  kms_driven fuel_type\n",
       "0       hyundai santro xing   Hyundai  2007   80000       45000    petrol\n",
       "1       mahindra jeep cl550  Mahindra  2006  425000          40    diesel\n",
       "2        maruti suzuki alto    Maruti  2018  410960       22000    petrol\n",
       "3         hyundai grand i10   Hyundai  2014  325000       28000    petrol\n",
       "4    ford ecosport titanium      Ford  2014  575000       36000    diesel\n",
       "..                      ...       ...   ...     ...         ...       ...\n",
       "830      maruti suzuki ritz    Maruti  2011  270000       50000    petrol\n",
       "831          tata indica v2      Tata  2009  110000       30000    diesel\n",
       "832    toyota corolla altis    Toyota  2009  300000      132000    petrol\n",
       "833            tata zest xm      Tata  2018  260000       27000    diesel\n",
       "834      mahindra quanto c8  Mahindra  2013  390000       40000    diesel\n",
       "\n",
       "[835 rows x 6 columns]"
      ]
     },
     "execution_count": 219,
     "metadata": {},
     "output_type": "execute_result"
    }
   ],
   "source": [
    "df"
   ]
  },
  {
   "cell_type": "code",
   "execution_count": 220,
   "id": "8c7b34e4-cf59-46b9-8f42-5db32028d359",
   "metadata": {},
   "outputs": [],
   "source": [
    "X = df.drop(columns='price')\n",
    "y = df['price']"
   ]
  },
  {
   "cell_type": "code",
   "execution_count": 223,
   "id": "963749a7-230e-4cd6-b9f9-e4bfa8941225",
   "metadata": {},
   "outputs": [],
   "source": [
    "from sklearn.model_selection import train_test_split"
   ]
  },
  {
   "cell_type": "code",
   "execution_count": 224,
   "id": "f0ccf7f8-329f-49b8-a46b-4cad77ab592e",
   "metadata": {},
   "outputs": [],
   "source": [
    "X_train, X_test, y_train, y_test = train_test_split(X,y,random_state = 42, test_size=0.2)"
   ]
  },
  {
   "cell_type": "code",
   "execution_count": 227,
   "id": "45615845-d6e5-4c17-99f5-06b10df6bc8c",
   "metadata": {},
   "outputs": [],
   "source": [
    "lr = LinearRegression()"
   ]
  },
  {
   "cell_type": "code",
   "execution_count": 226,
   "id": "1282f450-2f51-4a90-b2cb-a526e1470c7b",
   "metadata": {},
   "outputs": [],
   "source": [
    "from sklearn.preprocessing import OneHotEncoder"
   ]
  },
  {
   "cell_type": "code",
   "execution_count": 228,
   "id": "08709cd3-90ea-45dc-90cd-b50e56ce52d5",
   "metadata": {},
   "outputs": [],
   "source": [
    "ohe = OneHotEncoder()"
   ]
  },
  {
   "cell_type": "code",
   "execution_count": null,
   "id": "0101afac-2a92-4ebf-8cc4-84c7bedec2e8",
   "metadata": {},
   "outputs": [],
   "source": [
    "ohe.fit(X[['name', 'company', 'fuel_type']])"
   ]
  }
 ],
 "metadata": {
  "kernelspec": {
   "display_name": "Python 3 (ipykernel)",
   "language": "python",
   "name": "python3"
  },
  "language_info": {
   "codemirror_mode": {
    "name": "ipython",
    "version": 3
   },
   "file_extension": ".py",
   "mimetype": "text/x-python",
   "name": "python",
   "nbconvert_exporter": "python",
   "pygments_lexer": "ipython3",
   "version": "3.11.5"
  }
 },
 "nbformat": 4,
 "nbformat_minor": 5
}
